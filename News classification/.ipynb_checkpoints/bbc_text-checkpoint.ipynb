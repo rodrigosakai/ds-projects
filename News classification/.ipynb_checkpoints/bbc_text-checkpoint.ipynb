{
 "cells": [
  {
   "cell_type": "markdown",
   "metadata": {},
   "source": [
    "# Text Classification"
   ]
  },
  {
   "cell_type": "markdown",
   "metadata": {},
   "source": [
    "Here we have a labeled dataset containing news text and its respective categories in the newspaper. In this notebook, we will use it to train an NLP classifier capable of predicting the label of a new text."
   ]
  },
  {
   "cell_type": "code",
   "execution_count": 218,
   "metadata": {},
   "outputs": [],
   "source": [
    "import pandas as pd\n",
    "import warnings\n",
    "warnings.filterwarnings('ignore')\n",
    "pd.set_option('display.max_colwidth', -1)\n",
    "\n",
    "import seaborn as sns\n",
    "import matplotlib.pyplot as plt\n",
    "%matplotlib inline"
   ]
  },
  {
   "cell_type": "markdown",
   "metadata": {},
   "source": [
    "## Loading the dataset and keeping only letters in the text"
   ]
  },
  {
   "cell_type": "code",
   "execution_count": 219,
   "metadata": {},
   "outputs": [],
   "source": [
    "df = pd.read_csv('bbc-text.csv')"
   ]
  },
  {
   "cell_type": "code",
   "execution_count": 220,
   "metadata": {},
   "outputs": [],
   "source": [
    "df['text'] = df['text'].replace('[^a-zA-Z]', ' ', regex=True)"
   ]
  },
  {
   "cell_type": "markdown",
   "metadata": {},
   "source": [
    "## Checking data balance"
   ]
  },
  {
   "cell_type": "code",
   "execution_count": 221,
   "metadata": {},
   "outputs": [
    {
     "data": {
      "text/plain": [
       "<matplotlib.axes._subplots.AxesSubplot at 0x7fcad953ab90>"
      ]
     },
     "execution_count": 221,
     "metadata": {},
     "output_type": "execute_result"
    },
    {
     "data": {
      "image/png": "[encoded data removed]",
      "text/plain": [
       "<Figure size 432x288 with 1 Axes>"
      ]
     },
     "metadata": {
      "needs_background": "light"
     },
     "output_type": "display_data"
    }
   ],
   "source": [
    "sns.countplot(x='category', data=df)"
   ]
  },
  {
   "cell_type": "markdown",
   "metadata": {},
   "source": [
    "## Converting string categories to numerical"
   ]
  },
  {
   "cell_type": "code",
   "execution_count": 222,
   "metadata": {},
   "outputs": [],
   "source": [
    "df['category_id'] = df['category'].factorize()[0]"
   ]
  },
  {
   "cell_type": "code",
   "execution_count": 223,
   "metadata": {},
   "outputs": [
    {
     "data": {
      "text/html": [
       "<div>\n",
       "<style scoped>\n",
       "    .dataframe tbody tr th:only-of-type {\n",
       "        vertical-align: middle;\n",
       "    }\n",
       "\n",
       "    .dataframe tbody tr th {\n",
       "        vertical-align: top;\n",
       "    }\n",
       "\n",
       "    .dataframe thead th {\n",
       "        text-align: right;\n",
       "    }\n",
       "</style>\n",
       "<table border=\"1\" class=\"dataframe\">\n",
       "  <thead>\n",
       "    <tr style=\"text-align: right;\">\n",
       "      <th></th>\n",
       "      <th>category_id</th>\n",
       "      <th>category</th>\n",
       "    </tr>\n",
       "  </thead>\n",
       "  <tbody>\n",
       "    <tr>\n",
       "      <td>0</td>\n",
       "      <td>0</td>\n",
       "      <td>tech</td>\n",
       "    </tr>\n",
       "    <tr>\n",
       "      <td>1</td>\n",
       "      <td>1</td>\n",
       "      <td>business</td>\n",
       "    </tr>\n",
       "    <tr>\n",
       "      <td>2</td>\n",
       "      <td>2</td>\n",
       "      <td>sport</td>\n",
       "    </tr>\n",
       "    <tr>\n",
       "      <td>4</td>\n",
       "      <td>3</td>\n",
       "      <td>entertainment</td>\n",
       "    </tr>\n",
       "    <tr>\n",
       "      <td>5</td>\n",
       "      <td>4</td>\n",
       "      <td>politics</td>\n",
       "    </tr>\n",
       "  </tbody>\n",
       "</table>\n",
       "</div>"
      ],
      "text/plain": [
       "   category_id       category\n",
       "0  0            tech         \n",
       "1  1            business     \n",
       "2  2            sport        \n",
       "4  3            entertainment\n",
       "5  4            politics     "
      ]
     },
     "execution_count": 223,
     "metadata": {},
     "output_type": "execute_result"
    }
   ],
   "source": [
    "df[['category_id','category']].drop_duplicates()"
   ]
  },
  {
   "cell_type": "code",
   "execution_count": 224,
   "metadata": {},
   "outputs": [],
   "source": [
    "# Storing the convertion in a dictionary\n",
    "d = dict(df[['category_id','category']].drop_duplicates().values)"
   ]
  },
  {
   "cell_type": "markdown",
   "metadata": {},
   "source": [
    "## Vectorizing headlines"
   ]
  },
  {
   "cell_type": "markdown",
   "metadata": {},
   "source": [
    "By vectorizing, we can represent text with numbers by computing their frequency on the corpus. To prevent ending up with a bag of loose words, we can quantify combination of n-words (n-grams) such that we capture the meaning of sequences of words.\n",
    "\n",
    "To minimize the computational burden of the task and to prevent taking into account sequences of unrelated words, we will limit the vectorization to 3-grams. Also, we will only vectorize words that have a minimum frequency of 5 and a maximum of 100. This way, we avoid feeding our model rare and general terms.\n",
    "\n",
    "To check whether the words combinations are making sense, we will take a look at the most frequent n-grams for each category."
   ]
  },
  {
   "cell_type": "code",
   "execution_count": 225,
   "metadata": {},
   "outputs": [],
   "source": [
    "def print_most_common_n_grams(df, i):\n",
    "    x = []\n",
    "    for col in df.columns:\n",
    "        if len(col.split()) == i:\n",
    "            x.append((col, df[col].sum()))\n",
    "\n",
    "    x.sort(key=lambda x: x[1], reverse=True)\n",
    "\n",
    "    most_common = [i[0] for i in x[:5]]\n",
    "\n",
    "    for i in range(len(most_common)):\n",
    "        print ('    {}. {}'.format(i+1, most_common[i]))\n",
    "\n",
    "def get_most_common_n_grams_by_category(min_gram, max_gram, df, text_column_name, label_column_name):\n",
    "    tfid = TfidfVectorizer(min_df=5,\n",
    "                   max_df=100,\n",
    "                   encoding='latin-1',\n",
    "                   ngram_range=(min_gram, max_gram),\n",
    "                   stop_words='english')\n",
    "\n",
    "    tfid.fit(df[text_column_name])\n",
    "\n",
    "    all_labels = df[label_column_name].unique()\n",
    "\n",
    "    for label in all_labels:\n",
    "        print ('LABEL: ', label)\n",
    "        aux = df[df[label_column_name] == label]\n",
    "        for i in range(min_gram, max_gram+1):\n",
    "            print ('{}-gram'.format(i))\n",
    "            vectorized_text = tfid.transform(aux[text_column_name]).toarray()\n",
    "            temp = pd.DataFrame(vectorized_text, columns=tfid.get_feature_names())\n",
    "\n",
    "            print_most_common_n_grams(temp, i)\n",
    "            print ('-----------------------')"
   ]
  },
  {
   "cell_type": "code",
   "execution_count": 226,
   "metadata": {},
   "outputs": [
    {
     "name": "stdout",
     "output_type": "stream",
     "text": [
      "LABEL:  tech\n",
      "1-gram\n",
      "    1. microsoft\n",
      "    2. broadband\n",
      "    3. phones\n",
      "    4. apple\n",
      "    5. search\n",
      "-----------------------\n",
      "2-gram\n",
      "    1. mobile phone\n",
      "    2. high definition\n",
      "    3. mobile phones\n",
      "    4. news website\n",
      "    5. wi fi\n",
      "-----------------------\n",
      "3-gram\n",
      "    1. bbc news website\n",
      "    2. digital music players\n",
      "    3. bbc world service\n",
      "    4. peer peer networks\n",
      "    5. open source software\n",
      "-----------------------\n",
      "LABEL:  business\n",
      "1-gram\n",
      "    1. china\n",
      "    2. yukos\n",
      "    3. profits\n",
      "    4. india\n",
      "    5. stock\n",
      "-----------------------\n",
      "2-gram\n",
      "    1. economic growth\n",
      "    2. oil prices\n",
      "    3. stock market\n",
      "    4. analysts said\n",
      "    5. bn euros\n",
      "-----------------------\n",
      "3-gram\n",
      "    1. bn euros bn\n",
      "    2. securities exchange commission\n",
      "    3. london stock exchange\n",
      "    4. reuters news agency\n",
      "    5. high oil prices\n",
      "-----------------------\n",
      "LABEL:  sport\n",
      "1-gram\n",
      "    1. chelsea\n",
      "    2. rugby\n",
      "    3. champion\n",
      "    4. arsenal\n",
      "    5. liverpool\n",
      "-----------------------\n",
      "2-gram\n",
      "    1. champions league\n",
      "    2. world cup\n",
      "    3. australian open\n",
      "    4. grand slam\n",
      "    5. new zealand\n",
      "-----------------------\n",
      "3-gram\n",
      "    1. told bbc sport\n",
      "    2. coach andy robinson\n",
      "    3. world cross country\n",
      "    4. european indoor championships\n",
      "    5. sir alex ferguson\n",
      "-----------------------\n",
      "LABEL:  entertainment\n",
      "1-gram\n",
      "    1. band\n",
      "    2. festival\n",
      "    3. album\n",
      "    4. singer\n",
      "    5. oscar\n",
      "-----------------------\n",
      "2-gram\n",
      "    1. box office\n",
      "    2. los angeles\n",
      "    3. film festival\n",
      "    4. million dollar\n",
      "    5. named best\n",
      "-----------------------\n",
      "3-gram\n",
      "    1. million dollar baby\n",
      "    2. berlin film festival\n",
      "    3. celebrity big brother\n",
      "    4. da vinci code\n",
      "    5. sold million copies\n",
      "-----------------------\n",
      "LABEL:  politics\n",
      "1-gram\n",
      "    1. lord\n",
      "    2. mps\n",
      "    3. lib\n",
      "    4. kennedy\n",
      "    5. eu\n",
      "-----------------------\n",
      "2-gram\n",
      "    1. mr brown\n",
      "    2. mr howard\n",
      "    3. michael howard\n",
      "    4. lib dems\n",
      "    5. gordon brown\n",
      "-----------------------\n",
      "3-gram\n",
      "    1. mr blair said\n",
      "    2. leader michael howard\n",
      "    3. told bbc radio\n",
      "    4. mr howard said\n",
      "    5. radio today programme\n",
      "-----------------------\n"
     ]
    }
   ],
   "source": [
    "get_most_common_n_grams_by_category(1, 3, df, 'text', 'category')"
   ]
  },
  {
   "cell_type": "markdown",
   "metadata": {},
   "source": [
    "The results look good, however we do have some anomalies. For instance: the most frequent 3-gram for technology is 'bbc news website' and the third most frequent 3-gram for politics is 'told bbc radio'.\n",
    "\n",
    "We will try to correct it by simply removing some words from the original text"
   ]
  },
  {
   "cell_type": "code",
   "execution_count": 227,
   "metadata": {},
   "outputs": [],
   "source": [
    "def remove_list_of_words(x):\n",
    "    aux = x\n",
    "    for word in ['told', 'said', 'bbc']:\n",
    "        aux = aux.replace(word, '')\n",
    "    return aux\n",
    "\n",
    "df['text'] = df['text'].apply(remove_list_of_words)\n"
   ]
  },
  {
   "cell_type": "code",
   "execution_count": 228,
   "metadata": {},
   "outputs": [
    {
     "name": "stdout",
     "output_type": "stream",
     "text": [
      "LABEL:  tech\n",
      "1-gram\n",
      "    1. microsoft\n",
      "    2. broadband\n",
      "    3. phones\n",
      "    4. apple\n",
      "    5. search\n",
      "-----------------------\n",
      "2-gram\n",
      "    1. mobile phone\n",
      "    2. high definition\n",
      "    3. mobile phones\n",
      "    4. news website\n",
      "    5. wi fi\n",
      "-----------------------\n",
      "3-gram\n",
      "    1. digital music players\n",
      "    2. peer peer networks\n",
      "    3. open source software\n",
      "    4. anti virus software\n",
      "    5. high definition tv\n",
      "-----------------------\n",
      "LABEL:  business\n",
      "1-gram\n",
      "    1. china\n",
      "    2. yukos\n",
      "    3. profits\n",
      "    4. india\n",
      "    5. stock\n",
      "-----------------------\n",
      "2-gram\n",
      "    1. economic growth\n",
      "    2. oil prices\n",
      "    3. stock market\n",
      "    4. bn euros\n",
      "    5. consumer spending\n",
      "-----------------------\n",
      "3-gram\n",
      "    1. bn euros bn\n",
      "    2. securities exchange commission\n",
      "    3. london stock exchange\n",
      "    4. reuters news agency\n",
      "    5. high oil prices\n",
      "-----------------------\n",
      "LABEL:  sport\n",
      "1-gram\n",
      "    1. chelsea\n",
      "    2. rugby\n",
      "    3. champion\n",
      "    4. arsenal\n",
      "    5. liverpool\n",
      "-----------------------\n",
      "2-gram\n",
      "    1. champions league\n",
      "    2. world cup\n",
      "    3. australian open\n",
      "    4. grand slam\n",
      "    5. new zealand\n",
      "-----------------------\n",
      "3-gram\n",
      "    1. coach andy robinson\n",
      "    2. world cross country\n",
      "    3. european indoor championships\n",
      "    4. sir alex ferguson\n",
      "    5. sir clive woodward\n",
      "-----------------------\n",
      "LABEL:  entertainment\n",
      "1-gram\n",
      "    1. band\n",
      "    2. festival\n",
      "    3. album\n",
      "    4. singer\n",
      "    5. oscar\n",
      "-----------------------\n",
      "2-gram\n",
      "    1. box office\n",
      "    2. los angeles\n",
      "    3. film festival\n",
      "    4. million dollar\n",
      "    5. named best\n",
      "-----------------------\n",
      "3-gram\n",
      "    1. million dollar baby\n",
      "    2. berlin film festival\n",
      "    3. celebrity big brother\n",
      "    4. da vinci code\n",
      "    5. sold million copies\n",
      "-----------------------\n",
      "LABEL:  politics\n",
      "1-gram\n",
      "    1. lord\n",
      "    2. mps\n",
      "    3. lib\n",
      "    4. kennedy\n",
      "    5. eu\n",
      "-----------------------\n",
      "2-gram\n",
      "    1. mr brown\n",
      "    2. mr howard\n",
      "    3. michael howard\n",
      "    4. lib dems\n",
      "    5. gordon brown\n",
      "-----------------------\n",
      "3-gram\n",
      "    1. leader michael howard\n",
      "    2. radio today programme\n",
      "    3. tory leader michael\n",
      "    4. mr kilroy silk\n",
      "    5. leader charles kennedy\n",
      "-----------------------\n"
     ]
    }
   ],
   "source": [
    "get_most_common_n_grams_by_category(1, 3, df, 'text', 'category')"
   ]
  },
  {
   "cell_type": "markdown",
   "metadata": {},
   "source": [
    "By running the function again, we can see that 'bbc news website' and 'told bbc radio' have been replaced by 'digital music player' and 'tory leader michael' (tory is an expression for the british conservative party)."
   ]
  },
  {
   "cell_type": "code",
   "execution_count": 229,
   "metadata": {},
   "outputs": [],
   "source": [
    "from sklearn.feature_extraction.text import CountVectorizer, TfidfVectorizer"
   ]
  },
  {
   "cell_type": "code",
   "execution_count": 230,
   "metadata": {},
   "outputs": [],
   "source": [
    "tfidf = TfidfVectorizer(min_df=5,\n",
    "                        max_df=100,\n",
    "                        encoding='latin-1',\n",
    "                        ngram_range=(1, 3),\n",
    "                        stop_words='english')\n",
    "\n",
    "X = tfidf.fit_transform(df['text']).toarray()\n",
    "y = df['category_id']"
   ]
  },
  {
   "cell_type": "markdown",
   "metadata": {},
   "source": [
    "## Cross Validating"
   ]
  },
  {
   "cell_type": "code",
   "execution_count": 231,
   "metadata": {},
   "outputs": [
    {
     "name": "stdout",
     "output_type": "stream",
     "text": [
      "LogisticRegression\n",
      "LinearSVC\n",
      "MultinomialNB\n",
      "BernoulliNB\n"
     ]
    },
    {
     "data": {
      "image/png": "[encoded data removed]",
      "text/plain": [
       "<Figure size 576x432 with 1 Axes>"
      ]
     },
     "metadata": {
      "needs_background": "light"
     },
     "output_type": "display_data"
    }
   ],
   "source": [
    "from sklearn.linear_model import LogisticRegression\n",
    "from sklearn.ensemble import RandomForestClassifier\n",
    "from sklearn.tree import DecisionTreeClassifier\n",
    "from sklearn.svm import LinearSVC\n",
    "from sklearn.naive_bayes import MultinomialNB, BernoulliNB\n",
    "from sklearn.neighbors import KNeighborsClassifier\n",
    "from sklearn.model_selection import cross_val_score\n",
    "\n",
    "models = [\n",
    "    LogisticRegression(),\n",
    "    LinearSVC(),\n",
    "    MultinomialNB(),\n",
    "    BernoulliNB()\n",
    "]\n",
    "\n",
    "agg = []\n",
    "for model in models:\n",
    "    model_name = model.__class__.__name__\n",
    "    print (model_name)\n",
    "    accuracies = cross_val_score(model, X, y, scoring='accuracy', cv=10)\n",
    "    for accuracy in accuracies:\n",
    "        agg.append((model_name, accuracy))\n",
    "        \n",
    "\n",
    "cv_df = pd.DataFrame(agg, columns=['model_name', 'accuracy'])\n",
    "\n",
    "\n",
    "\n",
    "plt.figure(figsize=(8,6))\n",
    "sns.boxplot(x='model_name', y='accuracy', data=cv_df)\n",
    "sns.stripplot(x='model_name', y='accuracy', data=cv_df, \n",
    "              size=8, jitter=True, edgecolor=\"gray\", linewidth=2)\n",
    "plt.xticks(rotation=90)\n",
    "\n",
    "plt.show()\n"
   ]
  },
  {
   "cell_type": "markdown",
   "metadata": {},
   "source": [
    "## Building a Multinomial NB Classifier and Measuring its performance"
   ]
  },
  {
   "cell_type": "code",
   "execution_count": 232,
   "metadata": {},
   "outputs": [],
   "source": [
    "from sklearn.model_selection import train_test_split\n",
    "from sklearn.metrics import accuracy_score"
   ]
  },
  {
   "cell_type": "code",
   "execution_count": 233,
   "metadata": {},
   "outputs": [],
   "source": [
    "clf = LinearSVC()\n",
    "X_train, X_test, y_train, y_test = train_test_split(X, y, test_size=0.3, random_state=1001)\n",
    "\n",
    "clf.fit(X_train, y_train)\n",
    "y_pred = clf.predict(X_test)"
   ]
  },
  {
   "cell_type": "code",
   "execution_count": 234,
   "metadata": {},
   "outputs": [
    {
     "data": {
      "text/plain": [
       "0.97"
      ]
     },
     "execution_count": 234,
     "metadata": {},
     "output_type": "execute_result"
    }
   ],
   "source": [
    "round(accuracy_score(y_test, y_pred), 3)"
   ]
  },
  {
   "cell_type": "code",
   "execution_count": 235,
   "metadata": {},
   "outputs": [
    {
     "data": {
      "text/plain": [
       "Text(0.5, 51.0, 'Predicted')"
      ]
     },
     "execution_count": 235,
     "metadata": {},
     "output_type": "execute_result"
    },
    {
     "data": {
      "image/png": "[encoded data removed]",
      "text/plain": [
       "<Figure size 720x576 with 2 Axes>"
      ]
     },
     "metadata": {
      "needs_background": "light"
     },
     "output_type": "display_data"
    }
   ],
   "source": [
    "from sklearn.metrics import confusion_matrix\n",
    "\n",
    "plt.figure(figsize=(10, 8))\n",
    "conf_mat = confusion_matrix(y_test, y_pred)\n",
    "ax = sns.heatmap(conf_mat,\n",
    "                 annot=True,fmt='d',\n",
    "                 xticklabels=d.values(),\n",
    "                yticklabels=d.values())\n",
    "\n",
    "# Fix heatmap\n",
    "bottom, top = ax.get_ylim()\n",
    "ax.set_ylim(bottom + 0.5, top - 0.5)\n",
    "\n",
    "# Insert x and y axis names\n",
    "plt.ylabel('Observed')\n",
    "plt.xlabel('Predicted')"
   ]
  },
  {
   "cell_type": "code",
   "execution_count": 242,
   "metadata": {},
   "outputs": [
    {
     "name": "stdout",
     "output_type": "stream",
     "text": [
      "Vector in memory:  242.53 MB\n",
      "(2225, 13625)\n"
     ]
    }
   ],
   "source": [
    "import sys\n",
    "\n",
    "print ('Vector in memory: ', round(sys.getsizeof(X)/10**6, 2), 'MB')\n",
    "print (X.shape)"
   ]
  },
  {
   "cell_type": "markdown",
   "metadata": {},
   "source": [
    "## Conclusion "
   ]
  },
  {
   "cell_type": "markdown",
   "metadata": {},
   "source": [
    "In this project, we were able to create a very efficacious classifier without running into big trouble. However, its simplicity and success were mainly thanks to two aspects: journalists and reporters wrote in standard English (i.e., without abbreviations and spelling errors), and the text had very distinct subjects (and therefore few words overlapping between topics).\n",
    "\n",
    "In terms of computational burden, we can see that the application of NLP without cloud data processing is limited. By vectorizing the news text, we split the words into 13.6k columns, and, for 2.2k records, the process consumed 242Mb from memory. Had the dataset contained 100x more records and no new vocabulary, the data structure would require over 20GB of free RAM to allocate it in memory - which is beyond most of the computers' setups."
   ]
  }
 ],
 "metadata": {
  "kernelspec": {
   "display_name": "Python 3",
   "language": "python",
   "name": "python3"
  },
  "language_info": {
   "codemirror_mode": {
    "name": "ipython",
    "version": 3
   },
   "file_extension": ".py",
   "mimetype": "text/x-python",
   "name": "python",
   "nbconvert_exporter": "python",
   "pygments_lexer": "ipython3",
   "version": "3.7.4"
  }
 },
 "nbformat": 4,
 "nbformat_minor": 2
}
